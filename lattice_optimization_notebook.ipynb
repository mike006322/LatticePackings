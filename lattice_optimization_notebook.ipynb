{
 "cells": [
  {
   "cell_type": "code",
   "execution_count": 4,
   "metadata": {},
   "outputs": [
    {
     "name": "stdout",
     "output_type": "stream",
     "text": [
      "1\t2\n",
      "\n",
      "[  0 1/2   0]\n",
      "[  1   0   1]\n",
      "[ -1   0   2]\n"
     ]
    }
   ],
   "source": [
    "%run -i 'test.py'\n"
   ]
  },
  {
   "cell_type": "code",
   "execution_count": null,
   "metadata": {},
   "outputs": [],
   "source": [
    "%run -i '.py'"
   ]
  },
  {
   "cell_type": "code",
   "execution_count": 45,
   "metadata": {},
   "outputs": [],
   "source": [
    "R.<a0, a1, a2> = PolynomialRing(QQ, 3)\n"
   ]
  },
  {
   "cell_type": "code",
   "execution_count": 41,
   "metadata": {},
   "outputs": [
    {
     "name": "stdout",
     "output_type": "stream",
     "text": [
      "23/3*a0^2 - 20/3*a0*a1 + 23/3*a1^2 - 20/3*a0*a2 - 20/3*a1*a2 + 23/3*a2^2\n",
      "6\n"
     ]
    }
   ],
   "source": [
    "n = 11\n",
    "p = 3\n",
    "f =  n*(a0^2+a1^2+a2^2)- ((n-1)/p)*(a0+a1+a2)^2\n",
    "print f\n",
    "\n",
    "f_coeff =  f.coefficients()\n",
    "print len(f_coeff)\n"
   ]
  },
  {
   "cell_type": "code",
   "execution_count": 49,
   "metadata": {},
   "outputs": [
    {
     "name": "stdout",
     "output_type": "stream",
     "text": [
      "Quadratic form in 3 variables over Multivariate Polynomial Ring in a0, a1, a2 over Rational Field with coefficients: \n",
      "[ 23/3 -20/3 23/3 ]\n",
      "[ * -20/3 -20/3 ]\n",
      "[ * * 23/3 ]\n",
      "[ 23/3 -10/3  23/6]\n",
      "[-10/3 -20/3 -10/3]\n",
      "[ 23/6 -10/3  23/3]\n"
     ]
    }
   ],
   "source": [
    "Q = QuadraticForm(R, 3, f_coeff)\n",
    "print Q\n",
    "print Q.Gram_matrix()"
   ]
  },
  {
   "cell_type": "code",
   "execution_count": 64,
   "metadata": {},
   "outputs": [
    {
     "name": "stdout",
     "output_type": "stream",
     "text": [
      "[49 -4 -4 -4 -4 -4 -4 -4 -4 -4 -4 -4 -4]\n",
      "[-4 49 -4 -4 -4 -4 -4 -4 -4 -4 -4 -4 -4]\n",
      "[-4 -4 49 -4 -4 -4 -4 -4 -4 -4 -4 -4 -4]\n",
      "[-4 -4 -4 49 -4 -4 -4 -4 -4 -4 -4 -4 -4]\n",
      "[-4 -4 -4 -4 49 -4 -4 -4 -4 -4 -4 -4 -4]\n",
      "[-4 -4 -4 -4 -4 49 -4 -4 -4 -4 -4 -4 -4]\n",
      "[-4 -4 -4 -4 -4 -4 49 -4 -4 -4 -4 -4 -4]\n",
      "[-4 -4 -4 -4 -4 -4 -4 49 -4 -4 -4 -4 -4]\n",
      "[-4 -4 -4 -4 -4 -4 -4 -4 49 -4 -4 -4 -4]\n",
      "[-4 -4 -4 -4 -4 -4 -4 -4 -4 49 -4 -4 -4]\n",
      "[-4 -4 -4 -4 -4 -4 -4 -4 -4 -4 49 -4 -4]\n",
      "[-4 -4 -4 -4 -4 -4 -4 -4 -4 -4 -4 49 -4]\n",
      "[-4 -4 -4 -4 -4 -4 -4 -4 -4 -4 -4 -4 49]\n"
     ]
    }
   ],
   "source": [
    "p = 13\n",
    "n = 53\n",
    "R.<a0,a1,a2,a3,a4,a5,a6,a7,a8,a9,a10,a11,a12> = PolynomialRing(QQ, p, order='lex')\n",
    "f = n*(a0^2+a1^2+a2^2+a3^2+a4^2+a5^2+a6^2+a7^2+a8^2+a9^2+a10^2+a11^2+a12^2) - ((n-1)/p)*(a0+a1+a2+a3+a4+a5+a6+a7+a8+a9+a10+a11+a12)^2\n",
    "Q = QuadraticForm(R, p, f.coefficients()) \n",
    "M = Q.Gram_matrix() \n",
    "print M"
   ]
  },
  {
   "cell_type": "code",
   "execution_count": 63,
   "metadata": {},
   "outputs": [
    {
     "name": "stdout",
     "output_type": "stream",
     "text": [
      "49*a0^2 - 8*a0*a1 - 8*a0*a2 - 8*a0*a3 - 8*a0*a4 - 8*a0*a5 - 8*a0*a6 - 8*a0*a7 - 8*a0*a8 - 8*a0*a9 - 8*a0*a10 - 8*a0*a11 - 8*a0*a12 + 49*a1^2 - 8*a1*a2 - 8*a1*a3 - 8*a1*a4 - 8*a1*a5 - 8*a1*a6 - 8*a1*a7 - 8*a1*a8 - 8*a1*a9 - 8*a1*a10 - 8*a1*a11 - 8*a1*a12 + 49*a2^2 - 8*a2*a3 - 8*a2*a4 - 8*a2*a5 - 8*a2*a6 - 8*a2*a7 - 8*a2*a8 - 8*a2*a9 - 8*a2*a10 - 8*a2*a11 - 8*a2*a12 + 49*a3^2 - 8*a3*a4 - 8*a3*a5 - 8*a3*a6 - 8*a3*a7 - 8*a3*a8 - 8*a3*a9 - 8*a3*a10 - 8*a3*a11 - 8*a3*a12 + 49*a4^2 - 8*a4*a5 - 8*a4*a6 - 8*a4*a7 - 8*a4*a8 - 8*a4*a9 - 8*a4*a10 - 8*a4*a11 - 8*a4*a12 + 49*a5^2 - 8*a5*a6 - 8*a5*a7 - 8*a5*a8 - 8*a5*a9 - 8*a5*a10 - 8*a5*a11 - 8*a5*a12 + 49*a6^2 - 8*a6*a7 - 8*a6*a8 - 8*a6*a9 - 8*a6*a10 - 8*a6*a11 - 8*a6*a12 + 49*a7^2 - 8*a7*a8 - 8*a7*a9 - 8*a7*a10 - 8*a7*a11 - 8*a7*a12 + 49*a8^2 - 8*a8*a9 - 8*a8*a10 - 8*a8*a11 - 8*a8*a12 + 49*a9^2 - 8*a9*a10 - 8*a9*a11 - 8*a9*a12 + 49*a10^2 - 8*a10*a11 - 8*a10*a12 + 49*a11^2 - 8*a11*a12 + 49*a12^2\n"
     ]
    }
   ],
   "source": [
    "print f\n"
   ]
  },
  {
   "cell_type": "code",
   "execution_count": null,
   "metadata": {},
   "outputs": [],
   "source": []
  }
 ],
 "metadata": {
  "kernelspec": {
   "display_name": "SageMath 8.9",
   "language": "sage",
   "name": "sagemath"
  },
  "language_info": {
   "codemirror_mode": {
    "name": "ipython",
    "version": 2
   },
   "file_extension": ".py",
   "mimetype": "text/x-python",
   "name": "python",
   "nbconvert_exporter": "python",
   "pygments_lexer": "ipython2",
   "version": "2.7.15"
  }
 },
 "nbformat": 4,
 "nbformat_minor": 2
}
